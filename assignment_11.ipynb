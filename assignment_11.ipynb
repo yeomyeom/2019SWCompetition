{
  "nbformat": 4,
  "nbformat_minor": 0,
  "metadata": {
    "colab": {
      "name": "assignment-11.ipynb",
      "provenance": [],
      "collapsed_sections": [],
      "authorship_tag": "ABX9TyO857T0KNzZC6rMSadXp9Cv",
      "include_colab_link": true
    },
    "kernelspec": {
      "name": "python3",
      "display_name": "Python 3"
    },
    "accelerator": "GPU",
    "widgets": {
      "application/vnd.jupyter.widget-state+json": {
        "c7280f33e1274ab89f895611bd223fa0": {
          "model_module": "@jupyter-widgets/controls",
          "model_name": "HBoxModel",
          "state": {
            "_view_name": "HBoxView",
            "_dom_classes": [],
            "_model_name": "HBoxModel",
            "_view_module": "@jupyter-widgets/controls",
            "_model_module_version": "1.5.0",
            "_view_count": null,
            "_view_module_version": "1.5.0",
            "box_style": "",
            "layout": "IPY_MODEL_35b0f1089b9e49888d1f42e9890e8886",
            "_model_module": "@jupyter-widgets/controls",
            "children": [
              "IPY_MODEL_6748a58f371d4a18bcafdd1aa2d9c2f6",
              "IPY_MODEL_f245301881d840be9a470dcb97952a6c"
            ]
          }
        },
        "35b0f1089b9e49888d1f42e9890e8886": {
          "model_module": "@jupyter-widgets/base",
          "model_name": "LayoutModel",
          "state": {
            "_view_name": "LayoutView",
            "grid_template_rows": null,
            "right": null,
            "justify_content": null,
            "_view_module": "@jupyter-widgets/base",
            "overflow": null,
            "_model_module_version": "1.2.0",
            "_view_count": null,
            "flex_flow": null,
            "width": null,
            "min_width": null,
            "border": null,
            "align_items": null,
            "bottom": null,
            "_model_module": "@jupyter-widgets/base",
            "top": null,
            "grid_column": null,
            "overflow_y": null,
            "overflow_x": null,
            "grid_auto_flow": null,
            "grid_area": null,
            "grid_template_columns": null,
            "flex": null,
            "_model_name": "LayoutModel",
            "justify_items": null,
            "grid_row": null,
            "max_height": null,
            "align_content": null,
            "visibility": null,
            "align_self": null,
            "height": null,
            "min_height": null,
            "padding": null,
            "grid_auto_rows": null,
            "grid_gap": null,
            "max_width": null,
            "order": null,
            "_view_module_version": "1.2.0",
            "grid_template_areas": null,
            "object_position": null,
            "object_fit": null,
            "grid_auto_columns": null,
            "margin": null,
            "display": null,
            "left": null
          }
        },
        "6748a58f371d4a18bcafdd1aa2d9c2f6": {
          "model_module": "@jupyter-widgets/controls",
          "model_name": "FloatProgressModel",
          "state": {
            "_view_name": "ProgressView",
            "style": "IPY_MODEL_9642599b5c0f45d7a4d5238237d8fef1",
            "_dom_classes": [],
            "description": "",
            "_model_name": "FloatProgressModel",
            "bar_style": "success",
            "max": 1,
            "_view_module": "@jupyter-widgets/controls",
            "_model_module_version": "1.5.0",
            "value": 1,
            "_view_count": null,
            "_view_module_version": "1.5.0",
            "orientation": "horizontal",
            "min": 0,
            "description_tooltip": null,
            "_model_module": "@jupyter-widgets/controls",
            "layout": "IPY_MODEL_fdd6a9adb07846f688e561acb9e486c1"
          }
        },
        "f245301881d840be9a470dcb97952a6c": {
          "model_module": "@jupyter-widgets/controls",
          "model_name": "HTMLModel",
          "state": {
            "_view_name": "HTMLView",
            "style": "IPY_MODEL_a7898345eff444058e3f2ae768b2f283",
            "_dom_classes": [],
            "description": "",
            "_model_name": "HTMLModel",
            "placeholder": "​",
            "_view_module": "@jupyter-widgets/controls",
            "_model_module_version": "1.5.0",
            "value": " 9920512/? [00:03&lt;00:00, 3186699.47it/s]",
            "_view_count": null,
            "_view_module_version": "1.5.0",
            "description_tooltip": null,
            "_model_module": "@jupyter-widgets/controls",
            "layout": "IPY_MODEL_807a5f8148154c6bbbadb2d13b22ac8b"
          }
        },
        "9642599b5c0f45d7a4d5238237d8fef1": {
          "model_module": "@jupyter-widgets/controls",
          "model_name": "ProgressStyleModel",
          "state": {
            "_view_name": "StyleView",
            "_model_name": "ProgressStyleModel",
            "description_width": "initial",
            "_view_module": "@jupyter-widgets/base",
            "_model_module_version": "1.5.0",
            "_view_count": null,
            "_view_module_version": "1.2.0",
            "bar_color": null,
            "_model_module": "@jupyter-widgets/controls"
          }
        },
        "fdd6a9adb07846f688e561acb9e486c1": {
          "model_module": "@jupyter-widgets/base",
          "model_name": "LayoutModel",
          "state": {
            "_view_name": "LayoutView",
            "grid_template_rows": null,
            "right": null,
            "justify_content": null,
            "_view_module": "@jupyter-widgets/base",
            "overflow": null,
            "_model_module_version": "1.2.0",
            "_view_count": null,
            "flex_flow": null,
            "width": null,
            "min_width": null,
            "border": null,
            "align_items": null,
            "bottom": null,
            "_model_module": "@jupyter-widgets/base",
            "top": null,
            "grid_column": null,
            "overflow_y": null,
            "overflow_x": null,
            "grid_auto_flow": null,
            "grid_area": null,
            "grid_template_columns": null,
            "flex": null,
            "_model_name": "LayoutModel",
            "justify_items": null,
            "grid_row": null,
            "max_height": null,
            "align_content": null,
            "visibility": null,
            "align_self": null,
            "height": null,
            "min_height": null,
            "padding": null,
            "grid_auto_rows": null,
            "grid_gap": null,
            "max_width": null,
            "order": null,
            "_view_module_version": "1.2.0",
            "grid_template_areas": null,
            "object_position": null,
            "object_fit": null,
            "grid_auto_columns": null,
            "margin": null,
            "display": null,
            "left": null
          }
        },
        "a7898345eff444058e3f2ae768b2f283": {
          "model_module": "@jupyter-widgets/controls",
          "model_name": "DescriptionStyleModel",
          "state": {
            "_view_name": "StyleView",
            "_model_name": "DescriptionStyleModel",
            "description_width": "",
            "_view_module": "@jupyter-widgets/base",
            "_model_module_version": "1.5.0",
            "_view_count": null,
            "_view_module_version": "1.2.0",
            "_model_module": "@jupyter-widgets/controls"
          }
        },
        "807a5f8148154c6bbbadb2d13b22ac8b": {
          "model_module": "@jupyter-widgets/base",
          "model_name": "LayoutModel",
          "state": {
            "_view_name": "LayoutView",
            "grid_template_rows": null,
            "right": null,
            "justify_content": null,
            "_view_module": "@jupyter-widgets/base",
            "overflow": null,
            "_model_module_version": "1.2.0",
            "_view_count": null,
            "flex_flow": null,
            "width": null,
            "min_width": null,
            "border": null,
            "align_items": null,
            "bottom": null,
            "_model_module": "@jupyter-widgets/base",
            "top": null,
            "grid_column": null,
            "overflow_y": null,
            "overflow_x": null,
            "grid_auto_flow": null,
            "grid_area": null,
            "grid_template_columns": null,
            "flex": null,
            "_model_name": "LayoutModel",
            "justify_items": null,
            "grid_row": null,
            "max_height": null,
            "align_content": null,
            "visibility": null,
            "align_self": null,
            "height": null,
            "min_height": null,
            "padding": null,
            "grid_auto_rows": null,
            "grid_gap": null,
            "max_width": null,
            "order": null,
            "_view_module_version": "1.2.0",
            "grid_template_areas": null,
            "object_position": null,
            "object_fit": null,
            "grid_auto_columns": null,
            "margin": null,
            "display": null,
            "left": null
          }
        },
        "38db9bb23f80460e965ea02a1fa2dab9": {
          "model_module": "@jupyter-widgets/controls",
          "model_name": "HBoxModel",
          "state": {
            "_view_name": "HBoxView",
            "_dom_classes": [],
            "_model_name": "HBoxModel",
            "_view_module": "@jupyter-widgets/controls",
            "_model_module_version": "1.5.0",
            "_view_count": null,
            "_view_module_version": "1.5.0",
            "box_style": "",
            "layout": "IPY_MODEL_1db178eebf844b18bb7bac56297cb100",
            "_model_module": "@jupyter-widgets/controls",
            "children": [
              "IPY_MODEL_b98d4b1d8ae04088bdd4214a07dd6f79",
              "IPY_MODEL_1a4f1fce43094391bfdc1edaaf8b2d13"
            ]
          }
        },
        "1db178eebf844b18bb7bac56297cb100": {
          "model_module": "@jupyter-widgets/base",
          "model_name": "LayoutModel",
          "state": {
            "_view_name": "LayoutView",
            "grid_template_rows": null,
            "right": null,
            "justify_content": null,
            "_view_module": "@jupyter-widgets/base",
            "overflow": null,
            "_model_module_version": "1.2.0",
            "_view_count": null,
            "flex_flow": null,
            "width": null,
            "min_width": null,
            "border": null,
            "align_items": null,
            "bottom": null,
            "_model_module": "@jupyter-widgets/base",
            "top": null,
            "grid_column": null,
            "overflow_y": null,
            "overflow_x": null,
            "grid_auto_flow": null,
            "grid_area": null,
            "grid_template_columns": null,
            "flex": null,
            "_model_name": "LayoutModel",
            "justify_items": null,
            "grid_row": null,
            "max_height": null,
            "align_content": null,
            "visibility": null,
            "align_self": null,
            "height": null,
            "min_height": null,
            "padding": null,
            "grid_auto_rows": null,
            "grid_gap": null,
            "max_width": null,
            "order": null,
            "_view_module_version": "1.2.0",
            "grid_template_areas": null,
            "object_position": null,
            "object_fit": null,
            "grid_auto_columns": null,
            "margin": null,
            "display": null,
            "left": null
          }
        },
        "b98d4b1d8ae04088bdd4214a07dd6f79": {
          "model_module": "@jupyter-widgets/controls",
          "model_name": "FloatProgressModel",
          "state": {
            "_view_name": "ProgressView",
            "style": "IPY_MODEL_80e02ddd765441bdb75773e50fdf9f8c",
            "_dom_classes": [],
            "description": "",
            "_model_name": "FloatProgressModel",
            "bar_style": "success",
            "max": 1,
            "_view_module": "@jupyter-widgets/controls",
            "_model_module_version": "1.5.0",
            "value": 1,
            "_view_count": null,
            "_view_module_version": "1.5.0",
            "orientation": "horizontal",
            "min": 0,
            "description_tooltip": null,
            "_model_module": "@jupyter-widgets/controls",
            "layout": "IPY_MODEL_3216366f002246e6951f92d5860c2229"
          }
        },
        "1a4f1fce43094391bfdc1edaaf8b2d13": {
          "model_module": "@jupyter-widgets/controls",
          "model_name": "HTMLModel",
          "state": {
            "_view_name": "HTMLView",
            "style": "IPY_MODEL_43ef53920add4b7db28879d9d74284b2",
            "_dom_classes": [],
            "description": "",
            "_model_name": "HTMLModel",
            "placeholder": "​",
            "_view_module": "@jupyter-widgets/controls",
            "_model_module_version": "1.5.0",
            "value": " 32768/? [00:00&lt;00:00, 119188.77it/s]",
            "_view_count": null,
            "_view_module_version": "1.5.0",
            "description_tooltip": null,
            "_model_module": "@jupyter-widgets/controls",
            "layout": "IPY_MODEL_b95569d1961241dcb48e43171444d2f0"
          }
        },
        "80e02ddd765441bdb75773e50fdf9f8c": {
          "model_module": "@jupyter-widgets/controls",
          "model_name": "ProgressStyleModel",
          "state": {
            "_view_name": "StyleView",
            "_model_name": "ProgressStyleModel",
            "description_width": "initial",
            "_view_module": "@jupyter-widgets/base",
            "_model_module_version": "1.5.0",
            "_view_count": null,
            "_view_module_version": "1.2.0",
            "bar_color": null,
            "_model_module": "@jupyter-widgets/controls"
          }
        },
        "3216366f002246e6951f92d5860c2229": {
          "model_module": "@jupyter-widgets/base",
          "model_name": "LayoutModel",
          "state": {
            "_view_name": "LayoutView",
            "grid_template_rows": null,
            "right": null,
            "justify_content": null,
            "_view_module": "@jupyter-widgets/base",
            "overflow": null,
            "_model_module_version": "1.2.0",
            "_view_count": null,
            "flex_flow": null,
            "width": null,
            "min_width": null,
            "border": null,
            "align_items": null,
            "bottom": null,
            "_model_module": "@jupyter-widgets/base",
            "top": null,
            "grid_column": null,
            "overflow_y": null,
            "overflow_x": null,
            "grid_auto_flow": null,
            "grid_area": null,
            "grid_template_columns": null,
            "flex": null,
            "_model_name": "LayoutModel",
            "justify_items": null,
            "grid_row": null,
            "max_height": null,
            "align_content": null,
            "visibility": null,
            "align_self": null,
            "height": null,
            "min_height": null,
            "padding": null,
            "grid_auto_rows": null,
            "grid_gap": null,
            "max_width": null,
            "order": null,
            "_view_module_version": "1.2.0",
            "grid_template_areas": null,
            "object_position": null,
            "object_fit": null,
            "grid_auto_columns": null,
            "margin": null,
            "display": null,
            "left": null
          }
        },
        "43ef53920add4b7db28879d9d74284b2": {
          "model_module": "@jupyter-widgets/controls",
          "model_name": "DescriptionStyleModel",
          "state": {
            "_view_name": "StyleView",
            "_model_name": "DescriptionStyleModel",
            "description_width": "",
            "_view_module": "@jupyter-widgets/base",
            "_model_module_version": "1.5.0",
            "_view_count": null,
            "_view_module_version": "1.2.0",
            "_model_module": "@jupyter-widgets/controls"
          }
        },
        "b95569d1961241dcb48e43171444d2f0": {
          "model_module": "@jupyter-widgets/base",
          "model_name": "LayoutModel",
          "state": {
            "_view_name": "LayoutView",
            "grid_template_rows": null,
            "right": null,
            "justify_content": null,
            "_view_module": "@jupyter-widgets/base",
            "overflow": null,
            "_model_module_version": "1.2.0",
            "_view_count": null,
            "flex_flow": null,
            "width": null,
            "min_width": null,
            "border": null,
            "align_items": null,
            "bottom": null,
            "_model_module": "@jupyter-widgets/base",
            "top": null,
            "grid_column": null,
            "overflow_y": null,
            "overflow_x": null,
            "grid_auto_flow": null,
            "grid_area": null,
            "grid_template_columns": null,
            "flex": null,
            "_model_name": "LayoutModel",
            "justify_items": null,
            "grid_row": null,
            "max_height": null,
            "align_content": null,
            "visibility": null,
            "align_self": null,
            "height": null,
            "min_height": null,
            "padding": null,
            "grid_auto_rows": null,
            "grid_gap": null,
            "max_width": null,
            "order": null,
            "_view_module_version": "1.2.0",
            "grid_template_areas": null,
            "object_position": null,
            "object_fit": null,
            "grid_auto_columns": null,
            "margin": null,
            "display": null,
            "left": null
          }
        },
        "6310855035e24ac7806b8091a35c60e6": {
          "model_module": "@jupyter-widgets/controls",
          "model_name": "HBoxModel",
          "state": {
            "_view_name": "HBoxView",
            "_dom_classes": [],
            "_model_name": "HBoxModel",
            "_view_module": "@jupyter-widgets/controls",
            "_model_module_version": "1.5.0",
            "_view_count": null,
            "_view_module_version": "1.5.0",
            "box_style": "",
            "layout": "IPY_MODEL_44174c91b36e4f8f8d4088659be52d82",
            "_model_module": "@jupyter-widgets/controls",
            "children": [
              "IPY_MODEL_c0323a3f960a41d8a4d201228d478f19",
              "IPY_MODEL_9e43f4e0289a46998143c1135fb29aa8"
            ]
          }
        },
        "44174c91b36e4f8f8d4088659be52d82": {
          "model_module": "@jupyter-widgets/base",
          "model_name": "LayoutModel",
          "state": {
            "_view_name": "LayoutView",
            "grid_template_rows": null,
            "right": null,
            "justify_content": null,
            "_view_module": "@jupyter-widgets/base",
            "overflow": null,
            "_model_module_version": "1.2.0",
            "_view_count": null,
            "flex_flow": null,
            "width": null,
            "min_width": null,
            "border": null,
            "align_items": null,
            "bottom": null,
            "_model_module": "@jupyter-widgets/base",
            "top": null,
            "grid_column": null,
            "overflow_y": null,
            "overflow_x": null,
            "grid_auto_flow": null,
            "grid_area": null,
            "grid_template_columns": null,
            "flex": null,
            "_model_name": "LayoutModel",
            "justify_items": null,
            "grid_row": null,
            "max_height": null,
            "align_content": null,
            "visibility": null,
            "align_self": null,
            "height": null,
            "min_height": null,
            "padding": null,
            "grid_auto_rows": null,
            "grid_gap": null,
            "max_width": null,
            "order": null,
            "_view_module_version": "1.2.0",
            "grid_template_areas": null,
            "object_position": null,
            "object_fit": null,
            "grid_auto_columns": null,
            "margin": null,
            "display": null,
            "left": null
          }
        },
        "c0323a3f960a41d8a4d201228d478f19": {
          "model_module": "@jupyter-widgets/controls",
          "model_name": "FloatProgressModel",
          "state": {
            "_view_name": "ProgressView",
            "style": "IPY_MODEL_38e94ac9ae1d4476960df84dc4b4ff1b",
            "_dom_classes": [],
            "description": "",
            "_model_name": "FloatProgressModel",
            "bar_style": "success",
            "max": 1,
            "_view_module": "@jupyter-widgets/controls",
            "_model_module_version": "1.5.0",
            "value": 1,
            "_view_count": null,
            "_view_module_version": "1.5.0",
            "orientation": "horizontal",
            "min": 0,
            "description_tooltip": null,
            "_model_module": "@jupyter-widgets/controls",
            "layout": "IPY_MODEL_83b8a036a8fb43959c2f9b0fa375fc4a"
          }
        },
        "9e43f4e0289a46998143c1135fb29aa8": {
          "model_module": "@jupyter-widgets/controls",
          "model_name": "HTMLModel",
          "state": {
            "_view_name": "HTMLView",
            "style": "IPY_MODEL_5f3210a5969a4c9a9230e2736643f514",
            "_dom_classes": [],
            "description": "",
            "_model_name": "HTMLModel",
            "placeholder": "​",
            "_view_module": "@jupyter-widgets/controls",
            "_model_module_version": "1.5.0",
            "value": " 1654784/? [00:01&lt;00:00, 1174752.35it/s]",
            "_view_count": null,
            "_view_module_version": "1.5.0",
            "description_tooltip": null,
            "_model_module": "@jupyter-widgets/controls",
            "layout": "IPY_MODEL_ebdd0ddeb08f4fbfbaa1ca2f7b4484e9"
          }
        },
        "38e94ac9ae1d4476960df84dc4b4ff1b": {
          "model_module": "@jupyter-widgets/controls",
          "model_name": "ProgressStyleModel",
          "state": {
            "_view_name": "StyleView",
            "_model_name": "ProgressStyleModel",
            "description_width": "initial",
            "_view_module": "@jupyter-widgets/base",
            "_model_module_version": "1.5.0",
            "_view_count": null,
            "_view_module_version": "1.2.0",
            "bar_color": null,
            "_model_module": "@jupyter-widgets/controls"
          }
        },
        "83b8a036a8fb43959c2f9b0fa375fc4a": {
          "model_module": "@jupyter-widgets/base",
          "model_name": "LayoutModel",
          "state": {
            "_view_name": "LayoutView",
            "grid_template_rows": null,
            "right": null,
            "justify_content": null,
            "_view_module": "@jupyter-widgets/base",
            "overflow": null,
            "_model_module_version": "1.2.0",
            "_view_count": null,
            "flex_flow": null,
            "width": null,
            "min_width": null,
            "border": null,
            "align_items": null,
            "bottom": null,
            "_model_module": "@jupyter-widgets/base",
            "top": null,
            "grid_column": null,
            "overflow_y": null,
            "overflow_x": null,
            "grid_auto_flow": null,
            "grid_area": null,
            "grid_template_columns": null,
            "flex": null,
            "_model_name": "LayoutModel",
            "justify_items": null,
            "grid_row": null,
            "max_height": null,
            "align_content": null,
            "visibility": null,
            "align_self": null,
            "height": null,
            "min_height": null,
            "padding": null,
            "grid_auto_rows": null,
            "grid_gap": null,
            "max_width": null,
            "order": null,
            "_view_module_version": "1.2.0",
            "grid_template_areas": null,
            "object_position": null,
            "object_fit": null,
            "grid_auto_columns": null,
            "margin": null,
            "display": null,
            "left": null
          }
        },
        "5f3210a5969a4c9a9230e2736643f514": {
          "model_module": "@jupyter-widgets/controls",
          "model_name": "DescriptionStyleModel",
          "state": {
            "_view_name": "StyleView",
            "_model_name": "DescriptionStyleModel",
            "description_width": "",
            "_view_module": "@jupyter-widgets/base",
            "_model_module_version": "1.5.0",
            "_view_count": null,
            "_view_module_version": "1.2.0",
            "_model_module": "@jupyter-widgets/controls"
          }
        },
        "ebdd0ddeb08f4fbfbaa1ca2f7b4484e9": {
          "model_module": "@jupyter-widgets/base",
          "model_name": "LayoutModel",
          "state": {
            "_view_name": "LayoutView",
            "grid_template_rows": null,
            "right": null,
            "justify_content": null,
            "_view_module": "@jupyter-widgets/base",
            "overflow": null,
            "_model_module_version": "1.2.0",
            "_view_count": null,
            "flex_flow": null,
            "width": null,
            "min_width": null,
            "border": null,
            "align_items": null,
            "bottom": null,
            "_model_module": "@jupyter-widgets/base",
            "top": null,
            "grid_column": null,
            "overflow_y": null,
            "overflow_x": null,
            "grid_auto_flow": null,
            "grid_area": null,
            "grid_template_columns": null,
            "flex": null,
            "_model_name": "LayoutModel",
            "justify_items": null,
            "grid_row": null,
            "max_height": null,
            "align_content": null,
            "visibility": null,
            "align_self": null,
            "height": null,
            "min_height": null,
            "padding": null,
            "grid_auto_rows": null,
            "grid_gap": null,
            "max_width": null,
            "order": null,
            "_view_module_version": "1.2.0",
            "grid_template_areas": null,
            "object_position": null,
            "object_fit": null,
            "grid_auto_columns": null,
            "margin": null,
            "display": null,
            "left": null
          }
        },
        "8784be9473d3435c8071972cfde353a3": {
          "model_module": "@jupyter-widgets/controls",
          "model_name": "HBoxModel",
          "state": {
            "_view_name": "HBoxView",
            "_dom_classes": [],
            "_model_name": "HBoxModel",
            "_view_module": "@jupyter-widgets/controls",
            "_model_module_version": "1.5.0",
            "_view_count": null,
            "_view_module_version": "1.5.0",
            "box_style": "",
            "layout": "IPY_MODEL_a1fd120bbf0d4008ba2b6d628d698953",
            "_model_module": "@jupyter-widgets/controls",
            "children": [
              "IPY_MODEL_904ff5edd7314027a0fd9fd31383d5c0",
              "IPY_MODEL_e346e597592042fab52847fca0e53c9a"
            ]
          }
        },
        "a1fd120bbf0d4008ba2b6d628d698953": {
          "model_module": "@jupyter-widgets/base",
          "model_name": "LayoutModel",
          "state": {
            "_view_name": "LayoutView",
            "grid_template_rows": null,
            "right": null,
            "justify_content": null,
            "_view_module": "@jupyter-widgets/base",
            "overflow": null,
            "_model_module_version": "1.2.0",
            "_view_count": null,
            "flex_flow": null,
            "width": null,
            "min_width": null,
            "border": null,
            "align_items": null,
            "bottom": null,
            "_model_module": "@jupyter-widgets/base",
            "top": null,
            "grid_column": null,
            "overflow_y": null,
            "overflow_x": null,
            "grid_auto_flow": null,
            "grid_area": null,
            "grid_template_columns": null,
            "flex": null,
            "_model_name": "LayoutModel",
            "justify_items": null,
            "grid_row": null,
            "max_height": null,
            "align_content": null,
            "visibility": null,
            "align_self": null,
            "height": null,
            "min_height": null,
            "padding": null,
            "grid_auto_rows": null,
            "grid_gap": null,
            "max_width": null,
            "order": null,
            "_view_module_version": "1.2.0",
            "grid_template_areas": null,
            "object_position": null,
            "object_fit": null,
            "grid_auto_columns": null,
            "margin": null,
            "display": null,
            "left": null
          }
        },
        "904ff5edd7314027a0fd9fd31383d5c0": {
          "model_module": "@jupyter-widgets/controls",
          "model_name": "FloatProgressModel",
          "state": {
            "_view_name": "ProgressView",
            "style": "IPY_MODEL_ea82ffd6cd124a8a872518def068ce7d",
            "_dom_classes": [],
            "description": "",
            "_model_name": "FloatProgressModel",
            "bar_style": "success",
            "max": 1,
            "_view_module": "@jupyter-widgets/controls",
            "_model_module_version": "1.5.0",
            "value": 1,
            "_view_count": null,
            "_view_module_version": "1.5.0",
            "orientation": "horizontal",
            "min": 0,
            "description_tooltip": null,
            "_model_module": "@jupyter-widgets/controls",
            "layout": "IPY_MODEL_075b5291a4c34048b0b22f605320bc08"
          }
        },
        "e346e597592042fab52847fca0e53c9a": {
          "model_module": "@jupyter-widgets/controls",
          "model_name": "HTMLModel",
          "state": {
            "_view_name": "HTMLView",
            "style": "IPY_MODEL_5b0e5584bd954766bd30d61af04eba74",
            "_dom_classes": [],
            "description": "",
            "_model_name": "HTMLModel",
            "placeholder": "​",
            "_view_module": "@jupyter-widgets/controls",
            "_model_module_version": "1.5.0",
            "value": " 8192/? [00:00&lt;00:00, 18194.35it/s]",
            "_view_count": null,
            "_view_module_version": "1.5.0",
            "description_tooltip": null,
            "_model_module": "@jupyter-widgets/controls",
            "layout": "IPY_MODEL_2b1320de4f124cf4a2c75d9f388412a6"
          }
        },
        "ea82ffd6cd124a8a872518def068ce7d": {
          "model_module": "@jupyter-widgets/controls",
          "model_name": "ProgressStyleModel",
          "state": {
            "_view_name": "StyleView",
            "_model_name": "ProgressStyleModel",
            "description_width": "initial",
            "_view_module": "@jupyter-widgets/base",
            "_model_module_version": "1.5.0",
            "_view_count": null,
            "_view_module_version": "1.2.0",
            "bar_color": null,
            "_model_module": "@jupyter-widgets/controls"
          }
        },
        "075b5291a4c34048b0b22f605320bc08": {
          "model_module": "@jupyter-widgets/base",
          "model_name": "LayoutModel",
          "state": {
            "_view_name": "LayoutView",
            "grid_template_rows": null,
            "right": null,
            "justify_content": null,
            "_view_module": "@jupyter-widgets/base",
            "overflow": null,
            "_model_module_version": "1.2.0",
            "_view_count": null,
            "flex_flow": null,
            "width": null,
            "min_width": null,
            "border": null,
            "align_items": null,
            "bottom": null,
            "_model_module": "@jupyter-widgets/base",
            "top": null,
            "grid_column": null,
            "overflow_y": null,
            "overflow_x": null,
            "grid_auto_flow": null,
            "grid_area": null,
            "grid_template_columns": null,
            "flex": null,
            "_model_name": "LayoutModel",
            "justify_items": null,
            "grid_row": null,
            "max_height": null,
            "align_content": null,
            "visibility": null,
            "align_self": null,
            "height": null,
            "min_height": null,
            "padding": null,
            "grid_auto_rows": null,
            "grid_gap": null,
            "max_width": null,
            "order": null,
            "_view_module_version": "1.2.0",
            "grid_template_areas": null,
            "object_position": null,
            "object_fit": null,
            "grid_auto_columns": null,
            "margin": null,
            "display": null,
            "left": null
          }
        },
        "5b0e5584bd954766bd30d61af04eba74": {
          "model_module": "@jupyter-widgets/controls",
          "model_name": "DescriptionStyleModel",
          "state": {
            "_view_name": "StyleView",
            "_model_name": "DescriptionStyleModel",
            "description_width": "",
            "_view_module": "@jupyter-widgets/base",
            "_model_module_version": "1.5.0",
            "_view_count": null,
            "_view_module_version": "1.2.0",
            "_model_module": "@jupyter-widgets/controls"
          }
        },
        "2b1320de4f124cf4a2c75d9f388412a6": {
          "model_module": "@jupyter-widgets/base",
          "model_name": "LayoutModel",
          "state": {
            "_view_name": "LayoutView",
            "grid_template_rows": null,
            "right": null,
            "justify_content": null,
            "_view_module": "@jupyter-widgets/base",
            "overflow": null,
            "_model_module_version": "1.2.0",
            "_view_count": null,
            "flex_flow": null,
            "width": null,
            "min_width": null,
            "border": null,
            "align_items": null,
            "bottom": null,
            "_model_module": "@jupyter-widgets/base",
            "top": null,
            "grid_column": null,
            "overflow_y": null,
            "overflow_x": null,
            "grid_auto_flow": null,
            "grid_area": null,
            "grid_template_columns": null,
            "flex": null,
            "_model_name": "LayoutModel",
            "justify_items": null,
            "grid_row": null,
            "max_height": null,
            "align_content": null,
            "visibility": null,
            "align_self": null,
            "height": null,
            "min_height": null,
            "padding": null,
            "grid_auto_rows": null,
            "grid_gap": null,
            "max_width": null,
            "order": null,
            "_view_module_version": "1.2.0",
            "grid_template_areas": null,
            "object_position": null,
            "object_fit": null,
            "grid_auto_columns": null,
            "margin": null,
            "display": null,
            "left": null
          }
        }
      }
    }
  },
  "cells": [
    {
      "cell_type": "markdown",
      "metadata": {
        "id": "view-in-github",
        "colab_type": "text"
      },
      "source": [
        "<a href=\"https://colab.research.google.com/github/yeomyeom/2019swCompetition/blob/master/assignment_11.ipynb\" target=\"_parent\"><img src=\"https://colab.research.google.com/assets/colab-badge.svg\" alt=\"Open In Colab\"/></a>"
      ]
    },
    {
      "cell_type": "code",
      "metadata": {
        "id": "fhvO40DOGwcS"
      },
      "source": [
        "import numpy as np\n",
        "\n",
        "# visualization library\n",
        "%matplotlib inline\n",
        "from IPython.display import set_matplotlib_formats\n",
        "set_matplotlib_formats('png2x','pdf')\n",
        "import matplotlib.pyplot as plt\n",
        "\n",
        "# 3d visualization\n",
        "# from mpl_toolkits.mplot3d import axes3d\n",
        "\n",
        "import math\n",
        "import pandas as pd\n",
        "\n",
        "# import torch\n",
        "import torch\n",
        "import torch.nn as nn\n",
        "import torch.nn.functional as F\n",
        "import torchvision.datasets as datasets\n",
        "import torchvision.transforms as transforms\n",
        "from torch.autograd import Variable\n",
        "from torch.utils.data import DataLoader as DataLoader\n",
        "from torch.optim import lr_scheduler"
      ],
      "execution_count": 1,
      "outputs": []
    },
    {
      "cell_type": "code",
      "metadata": {
        "id": "_8KPJP_yJ64T"
      },
      "source": [
        "transform = transforms.Compose([\n",
        "    transforms.ToTensor(),\n",
        "    transforms.Normalize((0.1307,),(0.3081,)),  # mean value = 0.1307, standard deviation value = 0.3081\n",
        "])"
      ],
      "execution_count": 2,
      "outputs": []
    },
    {
      "cell_type": "code",
      "metadata": {
        "colab": {
          "base_uri": "https://localhost:8080/",
          "height": 429,
          "referenced_widgets": [
            "c7280f33e1274ab89f895611bd223fa0",
            "35b0f1089b9e49888d1f42e9890e8886",
            "6748a58f371d4a18bcafdd1aa2d9c2f6",
            "f245301881d840be9a470dcb97952a6c",
            "9642599b5c0f45d7a4d5238237d8fef1",
            "fdd6a9adb07846f688e561acb9e486c1",
            "a7898345eff444058e3f2ae768b2f283",
            "807a5f8148154c6bbbadb2d13b22ac8b",
            "38db9bb23f80460e965ea02a1fa2dab9",
            "1db178eebf844b18bb7bac56297cb100",
            "b98d4b1d8ae04088bdd4214a07dd6f79",
            "1a4f1fce43094391bfdc1edaaf8b2d13",
            "80e02ddd765441bdb75773e50fdf9f8c",
            "3216366f002246e6951f92d5860c2229",
            "43ef53920add4b7db28879d9d74284b2",
            "b95569d1961241dcb48e43171444d2f0",
            "6310855035e24ac7806b8091a35c60e6",
            "44174c91b36e4f8f8d4088659be52d82",
            "c0323a3f960a41d8a4d201228d478f19",
            "9e43f4e0289a46998143c1135fb29aa8",
            "38e94ac9ae1d4476960df84dc4b4ff1b",
            "83b8a036a8fb43959c2f9b0fa375fc4a",
            "5f3210a5969a4c9a9230e2736643f514",
            "ebdd0ddeb08f4fbfbaa1ca2f7b4484e9",
            "8784be9473d3435c8071972cfde353a3",
            "a1fd120bbf0d4008ba2b6d628d698953",
            "904ff5edd7314027a0fd9fd31383d5c0",
            "e346e597592042fab52847fca0e53c9a",
            "ea82ffd6cd124a8a872518def068ce7d",
            "075b5291a4c34048b0b22f605320bc08",
            "5b0e5584bd954766bd30d61af04eba74",
            "2b1320de4f124cf4a2c75d9f388412a6"
          ]
        },
        "id": "iEpF-2wxLTgm",
        "outputId": "4309bced-d8c8-4606-cd69-0c5453efcb1e"
      },
      "source": [
        "data_path = './MNIST'\n",
        "data_test   = datasets.MNIST(root = data_path, train= True, download=True, transform= transform)\n",
        "data_train  = datasets.MNIST(root = data_path, train= False, download=True, transform= transform)\n",
        "print(\"the number of your training data (must be 10,000) = \", data_train.__len__())\n",
        "print(\"hte number of your testing data (must be 60,000) = \", data_test.__len__())"
      ],
      "execution_count": 3,
      "outputs": [
        {
          "output_type": "stream",
          "text": [
            "Downloading http://yann.lecun.com/exdb/mnist/train-images-idx3-ubyte.gz to ./MNIST/MNIST/raw/train-images-idx3-ubyte.gz\n"
          ],
          "name": "stdout"
        },
        {
          "output_type": "display_data",
          "data": {
            "application/vnd.jupyter.widget-view+json": {
              "model_id": "c7280f33e1274ab89f895611bd223fa0",
              "version_minor": 0,
              "version_major": 2
            },
            "text/plain": [
              "HBox(children=(FloatProgress(value=1.0, bar_style='info', max=1.0), HTML(value='')))"
            ]
          },
          "metadata": {
            "tags": []
          }
        },
        {
          "output_type": "stream",
          "text": [
            "Extracting ./MNIST/MNIST/raw/train-images-idx3-ubyte.gz to ./MNIST/MNIST/raw\n",
            "Downloading http://yann.lecun.com/exdb/mnist/train-labels-idx1-ubyte.gz to ./MNIST/MNIST/raw/train-labels-idx1-ubyte.gz\n"
          ],
          "name": "stdout"
        },
        {
          "output_type": "display_data",
          "data": {
            "application/vnd.jupyter.widget-view+json": {
              "model_id": "38db9bb23f80460e965ea02a1fa2dab9",
              "version_minor": 0,
              "version_major": 2
            },
            "text/plain": [
              "HBox(children=(FloatProgress(value=1.0, bar_style='info', max=1.0), HTML(value='')))"
            ]
          },
          "metadata": {
            "tags": []
          }
        },
        {
          "output_type": "stream",
          "text": [
            "Extracting ./MNIST/MNIST/raw/train-labels-idx1-ubyte.gz to ./MNIST/MNIST/raw\n",
            "Downloading http://yann.lecun.com/exdb/mnist/t10k-images-idx3-ubyte.gz to ./MNIST/MNIST/raw/t10k-images-idx3-ubyte.gz\n",
            "\n"
          ],
          "name": "stdout"
        },
        {
          "output_type": "display_data",
          "data": {
            "application/vnd.jupyter.widget-view+json": {
              "model_id": "6310855035e24ac7806b8091a35c60e6",
              "version_minor": 0,
              "version_major": 2
            },
            "text/plain": [
              "HBox(children=(FloatProgress(value=1.0, bar_style='info', max=1.0), HTML(value='')))"
            ]
          },
          "metadata": {
            "tags": []
          }
        },
        {
          "output_type": "stream",
          "text": [
            "Extracting ./MNIST/MNIST/raw/t10k-images-idx3-ubyte.gz to ./MNIST/MNIST/raw\n",
            "Downloading http://yann.lecun.com/exdb/mnist/t10k-labels-idx1-ubyte.gz to ./MNIST/MNIST/raw/t10k-labels-idx1-ubyte.gz\n"
          ],
          "name": "stdout"
        },
        {
          "output_type": "display_data",
          "data": {
            "application/vnd.jupyter.widget-view+json": {
              "model_id": "8784be9473d3435c8071972cfde353a3",
              "version_minor": 0,
              "version_major": 2
            },
            "text/plain": [
              "HBox(children=(FloatProgress(value=1.0, bar_style='info', max=1.0), HTML(value='')))"
            ]
          },
          "metadata": {
            "tags": []
          }
        },
        {
          "output_type": "stream",
          "text": [
            "Extracting ./MNIST/MNIST/raw/t10k-labels-idx1-ubyte.gz to ./MNIST/MNIST/raw\n",
            "Processing...\n",
            "Done!\n",
            "the number of your training data (must be 10,000) =  10000\n",
            "hte number of your testing data (must be 60,000) =  60000\n"
          ],
          "name": "stdout"
        },
        {
          "output_type": "stream",
          "text": [
            "/usr/local/lib/python3.6/dist-packages/torchvision/datasets/mnist.py:480: UserWarning: The given NumPy array is not writeable, and PyTorch does not support non-writeable tensors. This means you can write to the underlying (supposedly non-writeable) NumPy array using the tensor. You may want to copy the array to protect its data or make it writeable before converting it to a tensor. This type of warning will be suppressed for the rest of this program. (Triggered internally at  /pytorch/torch/csrc/utils/tensor_numpy.cpp:141.)\n",
            "  return torch.from_numpy(parsed.astype(m[2], copy=False)).view(*s)\n"
          ],
          "name": "stderr"
        }
      ]
    },
    {
      "cell_type": "markdown",
      "metadata": {
        "id": "zNDDcniQTN5x"
      },
      "source": [
        "## plot MNIST dataset"
      ]
    },
    {
      "cell_type": "code",
      "metadata": {
        "colab": {
          "base_uri": "https://localhost:8080/",
          "height": 353
        },
        "id": "48Tc-EVSXsGo",
        "outputId": "7321f704-3070-49b0-9425-0ef27cf25ec8"
      },
      "source": [
        "# 이미지가 어떻게 생겼는지 확인\n",
        "training_set = DataLoader(data_train, batch_size=32)\n",
        "dataIter = iter(training_set)\n",
        "dataImage, dataLabel = dataIter.next()\n",
        "npdataImage = dataImage.numpy()\n",
        "print(npdataImage.shape)\n",
        "npdataImage = npdataImage[1]\n",
        "plt.imshow(np.squeeze(np.transpose(npdataImage, (1,2,0))), cmap='gray')\n",
        "print(dataLabel[1])"
      ],
      "execution_count": 4,
      "outputs": [
        {
          "output_type": "stream",
          "text": [
            "(32, 1, 28, 28)\n",
            "\n",
            "tensor(2)\n",
            "\n",
            "\n"
          ],
          "name": "stdout"
        },
        {
          "output_type": "display_data",
          "data": {
            "image/png": "[encoded data removed]",
            "application/pdf": "[encoded data removed]",
            "text/plain": [
              "<Figure size 432x288 with 1 Axes>"
            ]
          },
          "metadata": {
            "tags": [],
            "image/png": {
              "width": 251,
              "height": 248
            },
            "needs_background": "light"
          }
        }
      ]
    },
    {
      "cell_type": "code",
      "metadata": {
        "id": "V0r45vn-LcLp"
      },
      "source": [
        "#https://tykimos.github.io/2017/01/27/CNN_Layer_Talk/\n",
        "#nn.conv2d와 layer.conv2d 차이\n",
        "#https://excelsior-cjh.tistory.com/180\n",
        "# conv2d\n",
        "#https://pytorch.org/docs/stable/generated/torch.nn.Conv2d.html\n",
        "# batchNorm2d\n",
        "#https://pytorch.org/docs/stable/generated/torch.nn.BatchNorm2d.html\n",
        "# \n",
        "\n",
        "class YeomNN(nn.Module):\n",
        "    def __init__(self, num_classes=10, size_kernel=3):\n",
        "        super(YeomNN, self).__init__()\n",
        "        # 실행 순서 \n",
        "        # feature layer를 통해서 특징 추출\n",
        "        # view를 통해서 reshape\n",
        "        # classifier에 집어넣어 fully connected layer에 넣기\n",
        "        # 결과 출력\n",
        "        self.number_class   = num_classes\n",
        "        self.size_kernel    = size_kernel\n",
        "        # *********************************************************************\n",
        "        # feature layer\n",
        "        # *********************************************************************\n",
        "        # 1 layer\n",
        "        # glorot_uniform으로 값 초기화 빠른 초기 학습 효과\n",
        "        self.conv1 = nn.Conv2d(1,16,kernel_size=size_kernel,padding=int((size_kernel-1)/2))\n",
        "        # gradient 연산을 잘 하기 위해 Batchnorm 추가 32는 Mnist channel이 32이라 (1,28,28)-> conv(32,28,28?)\n",
        "        # gradient vanish 제거 LeakyReLU 사용 \n",
        "        self.layer1 = nn.Sequential(self.conv1, nn.BatchNorm2d(16), nn.LeakyReLU(0.01))\n",
        "        # 2 layer\n",
        "        # 오버피팅 제거 (Droupout은 노드를 랜덤으로 p 비율만큼 제거함)\n",
        "        self.conv2 = nn.Conv2d(16,32,kernel_size=size_kernel, padding=int((size_kernel-1)/2))\n",
        "        # 28*28 output 인것이 14*14로 바뀌여서 MaxPool을 이용해 2*2 -> 1 로 줄임\n",
        "        self.layer2 = nn.Sequential(self.conv2, nn.BatchNorm2d(32), nn.LeakyReLU(0.01),nn.MaxPool2d(2))\n",
        "        # 3 layer\n",
        "        # 128까지 확대해보자\n",
        "        self.conv3 = nn.Conv2d(32,64,kernel_size=size_kernel, padding=int((size_kernel-1)/2))\n",
        "        self.layer3 = nn.Sequential(self.conv3, nn.BatchNorm2d(64), nn.LeakyReLU(0.01),nn.MaxPool2d(2))      \n",
        "        # 작정하고 깊게 해보자\n",
        "        self.feature = nn.Sequential(self.layer1,self.layer2,self.layer3)\n",
        "\n",
        "        # *********************************************************************\n",
        "        # classifier layer\n",
        "        # *********************************************************************\n",
        "        # Maxpooling 할때마다 28*28이 1/2로 감소함 MP 3번했으니 3.5*3.5(3으로 내림) \n",
        "        self.fc1 = nn.Linear(in_features=64*7*7,out_features=128,bias=True)\n",
        "        self.fcLayer1 = nn.Sequential(self.fc1,nn.BatchNorm1d(128),nn.ReLU(True))\n",
        "\n",
        "        self.fc2 = nn.Linear(in_features=128,out_features=64,bias=True)\n",
        "        self.fcLayer2 = nn.Sequential(self.fc2,nn.BatchNorm1d(64),nn.ReLU(True))\n",
        "\n",
        "        self.fc3 = nn.Linear(in_features=64,out_features=num_classes,bias=True)\n",
        "        self.fcLayer3 = nn.Sequential(self.fc3,nn.BatchNorm1d(num_classes),nn.ReLU(True))\n",
        "\n",
        "        self.classifier = nn.Sequential(self.fcLayer1,self.fcLayer2,self.fcLayer3,nn.Softmax(dim=1))\n",
        "\n",
        "        #self._initialize_weight()\n",
        "\n",
        "\n",
        "    def _initialize_weight(self):\n",
        "        for m in self.modules():\n",
        "            if isinstance(m, nn.Conv2d):\n",
        "                nn.init.xavier_uniform_(m.weight, gain=math.sqrt(2))\n",
        "                if m.bias is not None:\n",
        "                    m.bias.data.zero_()\n",
        "            elif isinstance(m, nn.Linear):\n",
        "                nn.init.xavier_uniform_(m.weight, gain=math.sqrt(2))\n",
        "                if m.bias is not None:\n",
        "                    m.bias.data.zero_()\n",
        "\n",
        "    def forward(self, x):\n",
        "        x = self.feature(x)\n",
        "        x = x.view(x.size(0), -1)\n",
        "        #print(x.shape)\n",
        "        out = self.classifier(x)\n",
        "        return out\n"
      ],
      "execution_count": 25,
      "outputs": []
    },
    {
      "cell_type": "markdown",
      "metadata": {
        "id": "T-aKF2Y92Pjg"
      },
      "source": [
        "## define loss function and optimizer"
      ]
    },
    {
      "cell_type": "code",
      "metadata": {
        "id": "XaD-MtGg18ue"
      },
      "source": [
        "device = torch.device(\"cuda:0\" if torch.cuda.is_available() else \"cpu\")\n",
        "model = YeomNN().to(device)\n",
        "#print(model)\n",
        "learning_rate_value = 0.001\n",
        "criterion = nn.CrossEntropyLoss().to(device)\n",
        "#optimizer = torch.optim.SGD(model.parameters(), lr=learning_rate_value, momentum=0.9, weight_decay=0.001)\n",
        "optimizer = torch.optim.Adam(model.parameters(), lr=learning_rate_value)\n",
        "#optimizer = torch.optim.RMSprop(model.parameters(), lr=learning_rate_value)\n",
        "#scheduler = lr_scheduler.MultiStepLR(optimizer, milestones=[20], gamma= 1)\n",
        "scheduler = lr_scheduler.ReduceLROnPlateau(optimizer,threshold=0.1, patience=1, mode='min') "
      ],
      "execution_count": 26,
      "outputs": []
    },
    {
      "cell_type": "markdown",
      "metadata": {
        "id": "MJ3zwIsj4A_F"
      },
      "source": [
        "## Training"
      ]
    },
    {
      "cell_type": "code",
      "metadata": {
        "colab": {
          "base_uri": "https://localhost:8080/"
        },
        "id": "1063B8Xw2Osd",
        "outputId": "ddddca3e-f02e-43b6-988e-05af5fa9f55e"
      },
      "source": [
        "batch_size = 32\n",
        "max_epoch = 20\n",
        "print_interval = 5\n",
        "\n",
        "training_set = DataLoader(data_train, batch_size=batch_size, shuffle=True)\n",
        "testing_set = DataLoader(data_test, batch_size=batch_size, shuffle=True)\n",
        "\n",
        "trainLoss = []\n",
        "trainAcc = []\n",
        "testLoss = []\n",
        "testAcc = []\n",
        "\n",
        "for epoch in range(max_epoch):\n",
        "  correct = 0\n",
        "  total = 0\n",
        "  batchIdx = 0\n",
        "  # for training data and gradient descendent\n",
        "  for trainData in training_set:\n",
        "    batchIdx += 1\n",
        "    inputV = trainData[0].to(device)\n",
        "    labelV = trainData[1].to(device)\n",
        "    # 역전파 단계를 실행하기 전에 변화도를 0으로 만듭니다.\n",
        "    optimizer.zero_grad()\n",
        "    outputV = model(inputV)# forward 실행\n",
        "    loss = criterion(outputV, labelV)\n",
        "    loss.backward()# 역전파 실행\n",
        "    optimizer.step()\n",
        "    for i in range(len(labelV)):\n",
        "      # 총 데이터 개수\n",
        "      total += 1\n",
        "      # output 중에서 가장 큰 값의 index 값을 꺼내오자\n",
        "      predic = torch.max(outputV[i], 0)[1]\n",
        "      # label 이랑 outputV 랑 같은 것이 있으면 (eq 이후 T F 가 나오고 sum 이후 +1 또는 0을 더함)\n",
        "      correct += predic.eq(labelV[i]).sum()\n",
        "  trainLoss.append(loss.item())\n",
        "  acc = 100. * correct.item()/total\n",
        "  trainAcc.append(acc)\n",
        "  if epoch % print_interval == 0:\n",
        "    print('Training ' +str(epoch) + ' : ' + str(acc) + ' : ' + str(loss.item()))\n",
        "    print('Learning rate {}'.format(scheduler.optimizer.state_dict()['param_groups'][0]['lr']))\n",
        "  scheduler.step(loss)\n",
        "  # for test data\n",
        "  correct = 0\n",
        "  total = 0\n",
        "  batchIdx = 0\n",
        "  for testData in testing_set:\n",
        "    inputV = testData[0].to(device)\n",
        "    labelV = testData[1].to(device)\n",
        "    outputV = model(inputV)\n",
        "    # test 데이터이기 때문에 loss 값을 이용해 모델을 업데이트 할 필요는 없다.\n",
        "    loss = criterion(outputV, labelV)\n",
        "    for i in range(len(labelV)):\n",
        "      total += 1\n",
        "      predic = torch.max(outputV[i], 0)[1]\n",
        "      correct += predic.eq(labelV[i]).sum()\n",
        "  testLoss.append(loss.item())\n",
        "  acc = 100. * correct.item()/total\n",
        "  testAcc.append(acc)\n",
        "  if epoch % print_interval == 0:\n",
        "    print('Testing ' +str(epoch) + ' : ' + str(acc) + ' : ' + str(loss.item()))\n",
        "  "
      ],
      "execution_count": 35,
      "outputs": [
        {
          "output_type": "stream",
          "text": [
            "Training 0 : 98.31 : 1.8052012920379639\n",
            "Learning rate 1.0000000000000004e-08\n",
            "Testing 0 : 96.16333333333333 : 1.7012877464294434\n",
            "Training 5 : 97.97 : 1.6903218030929565\n",
            "Learning rate 1.0000000000000004e-08\n",
            "Testing 5 : 96.13666666666667 : 1.7379213571548462\n",
            "Training 10 : 98.3 : 1.6652171611785889\n",
            "Learning rate 1.0000000000000004e-08\n",
            "Testing 10 : 96.21833333333333 : 1.6933560371398926\n",
            "Training 15 : 98.01 : 1.7722710371017456\n",
            "Learning rate 1.0000000000000004e-08\n",
            "Testing 15 : 96.075 : 1.6392594575881958\n"
          ],
          "name": "stdout"
        }
      ]
    },
    {
      "cell_type": "markdown",
      "metadata": {
        "id": "yYrmdmCg32d0"
      },
      "source": [
        "## All test set accuracy"
      ]
    },
    {
      "cell_type": "code",
      "metadata": {
        "colab": {
          "base_uri": "https://localhost:8080/"
        },
        "id": "0efu8PKk3xJe",
        "outputId": "dd697373-eb85-4ca4-c6e5-24ac3f2cd8f9"
      },
      "source": [
        "testing_set = DataLoader(data_test,batch_size=256)\n",
        "# for test data\n",
        "correct = 0\n",
        "total = 0\n",
        "batchIdx = 0\n",
        "for testData in testing_set:\n",
        "  inputV = testData[0].to(device)\n",
        "  labelV = testData[1].to(device)\n",
        "  outputV = model(inputV)\n",
        "  # test 데이터이기 때문에 loss 값을 이용해 모델을 업데이트 할 필요는 없다.\n",
        "  loss = criterion(outputV, labelV)\n",
        "  for i in range(len(labelV)):\n",
        "    total += 1\n",
        "    predic = torch.max(outputV[i], 0)[1]\n",
        "    correct += predic.eq(labelV[i]).sum()\n",
        "acc = 100. * correct.item()/total\n",
        "print('Testing : ' + str(acc) + ' : ' + str(loss.item()))"
      ],
      "execution_count": 47,
      "outputs": [
        {
          "output_type": "stream",
          "text": [
            "Testing : 98.43 : 1.6243761777877808\n"
          ],
          "name": "stdout"
        }
      ]
    },
    {
      "cell_type": "markdown",
      "metadata": {
        "id": "p_4gZDP1hdPA"
      },
      "source": [
        "##[output]"
      ]
    },
    {
      "cell_type": "markdown",
      "metadata": {
        "id": "Mf1Z27J7he_A"
      },
      "source": [
        "## 1. Plot the training and testing losses over epochs"
      ]
    },
    {
      "cell_type": "code",
      "metadata": {
        "colab": {
          "base_uri": "https://localhost:8080/",
          "height": 498
        },
        "id": "QyqsLvTaXDzG",
        "outputId": "0edcf1c6-b223-4a51-a34e-6918165f5423"
      },
      "source": [
        "plt.figure(1,figsize=(8,8))\n",
        "plt.plot(range(len(trainLoss)),trainLoss,c='blue', label='train loss')\n",
        "plt.plot(range(len(testLoss)),testLoss,c='red', label='test loss')\n",
        "plt.title('Batch size = '+ str(batch_size) +' loss')\n",
        "plt.legend()\n",
        "plt.show()"
      ],
      "execution_count": 48,
      "outputs": [
        {
          "output_type": "display_data",
          "data": {
            "image/png": "[encoded data removed]",
            "application/pdf": "[encoded data removed]",
            "text/plain": [
              "<Figure size 576x576 with 1 Axes>"
            ]
          },
          "metadata": {
            "tags": [],
            "image/png": {
              "width": 490,
              "height": 481
            },
            "needs_background": "light"
          }
        }
      ]
    },
    {
      "cell_type": "markdown",
      "metadata": {
        "id": "JYqPI3kMhkdo"
      },
      "source": [
        "## 2. Plot the training and testing accuracies over epochs"
      ]
    },
    {
      "cell_type": "code",
      "metadata": {
        "colab": {
          "base_uri": "https://localhost:8080/",
          "height": 498
        },
        "id": "29HqdBW7XGc-",
        "outputId": "5c92a31b-3f2c-4fc3-fed5-7693c065745a"
      },
      "source": [
        "plt.figure(1,figsize=(8,8))\n",
        "plt.plot(range(len(trainAcc)),trainAcc,c='blue', label='train Accuracy')\n",
        "plt.plot(range(len(testAcc)),testAcc,c='red', label='test Accuracy')\n",
        "plt.title('Batch size = '+str(batch_size)+' accuracy')\n",
        "plt.legend()\n",
        "plt.show()"
      ],
      "execution_count": 49,
      "outputs": [
        {
          "output_type": "display_data",
          "data": {
            "image/png": "[encoded data removed]",
            "application/pdf": "[encoded data removed]",
            "text/plain": [
              "<Figure size 576x576 with 1 Axes>"
            ]
          },
          "metadata": {
            "tags": [],
            "image/png": {
              "width": 490,
              "height": 481
            },
            "needs_background": "light"
          }
        }
      ]
    },
    {
      "cell_type": "markdown",
      "metadata": {
        "id": "jgP_osYzhmNI"
      },
      "source": [
        "## 3. Print the final training and testing losses at convergence\n",
        "소수점 5째 자리까지 표기하시오"
      ]
    },
    {
      "cell_type": "code",
      "metadata": {
        "colab": {
          "base_uri": "https://localhost:8080/"
        },
        "id": "GDVw1E_qXOyu",
        "outputId": "32bc5d90-b845-46c9-8d52-0b2fc15a0508"
      },
      "source": [
        "print(trainLoss[-1])\n",
        "print(testLoss[-1])"
      ],
      "execution_count": 50,
      "outputs": [
        {
          "output_type": "stream",
          "text": [
            "1.768454909324646\n",
            "1.8428813219070435\n"
          ],
          "name": "stdout"
        }
      ]
    },
    {
      "cell_type": "markdown",
      "metadata": {
        "id": "5AkxzB1Ch6EB"
      },
      "source": [
        "| loss              |            |\n",
        "| ----------------- | ---------- |\n",
        "| training          | 0.12345    | \n",
        "| testing           | 0.12345    | \n"
      ]
    },
    {
      "cell_type": "markdown",
      "metadata": {
        "id": "yUmu4KQAho6I"
      },
      "source": [
        "## 4. Print the final training and testing accuracies at convergence\n",
        "소수점 5째 자리까지"
      ]
    },
    {
      "cell_type": "code",
      "metadata": {
        "colab": {
          "base_uri": "https://localhost:8080/"
        },
        "id": "osedVnoPXQc2",
        "outputId": "bcc25e8a-f731-49dc-e6b9-60cee236976c"
      },
      "source": [
        "print(trainAcc[-1])\n",
        "print(testAcc[-1])"
      ],
      "execution_count": 51,
      "outputs": [
        {
          "output_type": "stream",
          "text": [
            "98.02\n",
            "96.25333333333333\n"
          ],
          "name": "stdout"
        }
      ]
    },
    {
      "cell_type": "markdown",
      "metadata": {
        "id": "goRDa5mjh6fC"
      },
      "source": [
        "| accuracy          |            |\n",
        "| ----------------- | ---------- |\n",
        "| training          | 0.98765    | \n",
        "| testing           | 0.97650    | \n"
      ]
    },
    {
      "cell_type": "markdown",
      "metadata": {
        "id": "9K_I5Gz5hxtC"
      },
      "source": [
        "## 5. Print the testing accuracies within the last 10 epochs\n",
        "소수점 5째 자리까지"
      ]
    },
    {
      "cell_type": "code",
      "metadata": {
        "colab": {
          "base_uri": "https://localhost:8080/"
        },
        "id": "9N_iP7-PXUMP",
        "outputId": "0fd8f317-2ddc-4eea-914f-773c71b181b4"
      },
      "source": [
        "for i in range(max_epoch-10, max_epoch):\n",
        "  print(\"[epoch={}] {}\".format(i, testAcc[i]))"
      ],
      "execution_count": 41,
      "outputs": [
        {
          "output_type": "stream",
          "text": [
            "[epoch=10] 96.21833333333333\n",
            "[epoch=11] 96.29166666666667\n",
            "[epoch=12] 96.25666666666666\n",
            "[epoch=13] 96.22\n",
            "[epoch=14] 96.18833333333333\n",
            "[epoch=15] 96.075\n",
            "[epoch=16] 96.35166666666667\n",
            "[epoch=17] 96.18666666666667\n",
            "[epoch=18] 96.20833333333333\n",
            "[epoch=19] 96.25333333333333\n"
          ],
          "name": "stdout"
        }
      ]
    },
    {
      "cell_type": "code",
      "metadata": {
        "id": "YrVa3mfVvxcR"
      },
      "source": [
        ""
      ],
      "execution_count": null,
      "outputs": []
    }
  ]
}